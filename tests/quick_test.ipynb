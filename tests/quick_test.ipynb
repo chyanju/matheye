{
 "cells": [
  {
   "cell_type": "code",
   "execution_count": 1,
   "id": "4a7db8b0-a1ce-47d2-9834-c4db81eefd76",
   "metadata": {},
   "outputs": [
    {
     "name": "stdout",
     "output_type": "stream",
     "text": [
      "# setting up environment...\n",
      "CommandResponse(env=0)\n"
     ]
    }
   ],
   "source": [
    "from lean_interact import LeanREPLConfig, LeanServer, FileCommand, LocalProject, Command\n",
    "config = LeanREPLConfig(project=LocalProject(\"../benchmarks/\"))\n",
    "print(f\"# setting up environment...\")\n",
    "server = LeanServer(config) # start Lean REPL\n",
    "res0 = server.run(Command(cmd=\"\"\"import Mathlib\n",
    "import Aesop\n",
    "\n",
    "set_option maxHeartbeats 0\n",
    "set_option debug.skipKernelTC true\n",
    "\n",
    "open BigOperators Real Nat Topology Rat\n",
    "\"\"\"))\n",
    "print(res0)"
   ]
  },
  {
   "cell_type": "code",
   "execution_count": 2,
   "id": "91798bac-e985-480c-b6b5-9d00eee200bf",
   "metadata": {},
   "outputs": [
    {
     "name": "stdout",
     "output_type": "stream",
     "text": [
      "[Sorry(end_pos=Pos(line=6, column=11), proof_state=0, goal='m n : ℕ\\nh₀ : m.gcd n = 6\\nh₁ : m.lcm n = 126\\n⊢ m * n = m.gcd n * m.lcm n', start_pos=Pos(line=6, column=6)), Sorry(end_pos=Pos(line=7, column=9), proof_state=1, goal='m n : ℕ\\nh₀ : m.gcd n = 6\\nh₁ : m.lcm n = 126\\nh₄₁ : m * n = m.gcd n * m.lcm n\\n⊢ m * n = 756', start_pos=Pos(line=7, column=4)), Sorry(end_pos=Pos(line=8, column=7), proof_state=2, goal='m n : ℕ\\nh₀ : m.gcd n = 6\\nh₁ : m.lcm n = 126\\nh₄ : m * n = 756\\n⊢ 60 ≤ m + n', start_pos=Pos(line=8, column=2))]\n",
      "CommandResponse(sorries=[Sorry(end_pos=Pos(line=6, column=11), proof_state=0, goal='m n : ℕ\\nh₀ : m.gcd n = 6\\nh₁ : m.lcm n = 126\\n⊢ m * n = m.gcd n * m.lcm n', start_pos=Pos(line=6, column=6)), Sorry(end_pos=Pos(line=7, column=9), proof_state=1, goal='m n : ℕ\\nh₀ : m.gcd n = 6\\nh₁ : m.lcm n = 126\\nh₄₁ : m * n = m.gcd n * m.lcm n\\n⊢ m * n = 756', start_pos=Pos(line=7, column=4)), Sorry(end_pos=Pos(line=8, column=7), proof_state=2, goal='m n : ℕ\\nh₀ : m.gcd n = 6\\nh₁ : m.lcm n = 126\\nh₄ : m * n = 756\\n⊢ 60 ≤ m + n', start_pos=Pos(line=8, column=2))], env=1, messages=[Message(data=\"declaration uses 'sorry'\", end_pos=Pos(line=2, column=30), severity='warning', start_pos=Pos(line=2, column=8))])\n"
     ]
    }
   ],
   "source": [
    "# Mathlib setup...\n",
    "response = server.run(Command(cmd=\"\"\"\n",
    "theorem mathd_numbertheory_277 (m n : ℕ) (h₀ : Nat.gcd m n = 6) (h₁ : Nat.lcm m n = 126) :\n",
    "    60 ≤ m + n := by\n",
    "  have h₄ : m * n = 756 := by\n",
    "    have h₄₁ : m * n = Nat.gcd m n * Nat.lcm m n := by\n",
    "      sorry\n",
    "    sorry\n",
    "  sorry\n",
    "\"\"\", env=res0.env))\n",
    "print(response.sorries)\n",
    "print(response)"
   ]
  },
  {
   "cell_type": "code",
   "execution_count": 4,
   "id": "26fa4d5b-182d-4966-afc7-06f13b420b43",
   "metadata": {},
   "outputs": [
    {
     "name": "stdout",
     "output_type": "stream",
     "text": [
      "LeanError(message='Lean error:\\nomega could not prove the goal:\\na possible counterexample may satisfy the constraints\\n  0 ≤ a ≤ 755\\nwhere\\n a := ↑(m.gcd n) * ↑(m.lcm n)')\n"
     ]
    }
   ],
   "source": [
    "from lean_interact import ProofStep\n",
    "#now I want to change the second admit\n",
    "response = server.run(ProofStep(proof_state=1, tactic=\"\"\"omega\"\"\"))\n",
    "print(response)"
   ]
  },
  {
   "cell_type": "markdown",
   "id": "0277e012-e089-4db2-ad9a-1d1e0073046d",
   "metadata": {},
   "source": []
  },
  {
   "cell_type": "code",
   "execution_count": null,
   "id": "8d14d95d-0742-4c39-9fd3-c01db6d8922e",
   "metadata": {},
   "outputs": [],
   "source": []
  },
  {
   "cell_type": "code",
   "execution_count": null,
   "id": "d6ccda2c-b93e-4889-a53e-3a8557135a92",
   "metadata": {},
   "outputs": [],
   "source": []
  }
 ],
 "metadata": {
  "kernelspec": {
   "display_name": "Python 3 (ipykernel)",
   "language": "python",
   "name": "python3"
  },
  "language_info": {
   "codemirror_mode": {
    "name": "ipython",
    "version": 3
   },
   "file_extension": ".py",
   "mimetype": "text/x-python",
   "name": "python",
   "nbconvert_exporter": "python",
   "pygments_lexer": "ipython3",
   "version": "3.12.0"
  }
 },
 "nbformat": 4,
 "nbformat_minor": 5
}
