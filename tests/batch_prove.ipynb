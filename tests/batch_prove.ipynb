{
 "cells": [
  {
   "cell_type": "code",
   "execution_count": 1,
   "id": "926a7291-4029-4f5b-8ee8-693e0531a960",
   "metadata": {},
   "outputs": [],
   "source": [
    "import os\n",
    "import glob\n",
    "from natsort import natsorted\n",
    "folder_path = \"../benchmarks/minif2f-dspv2/test\"\n",
    "\n",
    "lean_files = glob.glob(os.path.join(folder_path, \"*.lean\"))\n",
    "lean_files = natsorted(lean_files, key=lambda x: os.path.basename(x))\n",
    "# for file_path in lean_files:\n",
    "#     print(os.path.basename(file_path))"
   ]
  },
  {
   "cell_type": "code",
   "execution_count": null,
   "id": "8717f27f-b49e-47be-8c0b-f636583e4b78",
   "metadata": {},
   "outputs": [],
   "source": []
  },
  {
   "cell_type": "code",
   "execution_count": null,
   "id": "ef423bae-6bff-4a25-bebd-2937115324d9",
   "metadata": {},
   "outputs": [],
   "source": []
  },
  {
   "cell_type": "code",
   "execution_count": null,
   "id": "cc1cbbc2-8841-4d2a-b53a-c67aea9d447b",
   "metadata": {},
   "outputs": [
    {
     "name": "stdout",
     "output_type": "stream",
     "text": [
      "# setting up environment...\n",
      "# res0: CommandResponse(env=0)\n",
      "# checking aime_1983_p1.lean\n",
      "  # passed: True\n",
      "  # time: 10.55827808380127\n",
      "# checking aime_1983_p2.lean\n",
      "  # passed: True\n",
      "  # time: 0.187636137008667\n",
      "# checking aime_1983_p3.lean\n",
      "  # passed: False\n",
      "  # time: 3.203029155731201\n",
      "# checking aime_1984_p1.lean\n",
      "  # passed: True\n",
      "  # time: 0.5304207801818848\n",
      "# checking aime_1984_p7.lean\n",
      "  # passed: True\n",
      "  # time: 96.23130702972412\n",
      "# checking aime_1987_p5.lean\n",
      "  # passed: True\n",
      "  # time: 4.08407187461853\n",
      "# checking aime_1988_p8.lean\n",
      "  # passed: True\n",
      "  # time: 1.7971899509429932\n",
      "# checking aime_1989_p8.lean\n",
      "  # passed: True\n",
      "  # time: 0.5074303150177002\n",
      "# checking aime_1990_p4.lean\n",
      "  # passed: True\n",
      "  # time: 1.854067087173462\n",
      "# checking aime_1990_p15.lean\n",
      "  # passed: True\n",
      "  # time: 1.2984611988067627\n",
      "# checking aime_1991_p9.lean\n",
      "  # passed: True\n",
      "  # time: 2.129603147506714\n",
      "# checking aime_1994_p3.lean\n"
     ]
    }
   ],
   "source": [
    "import time\n",
    "from lean_interact import LeanREPLConfig, LeanServer, FileCommand, LocalProject, Command\n",
    "config = LeanREPLConfig(project=LocalProject(\"../benchmarks/\"))\n",
    "print(f\"# setting up environment...\")\n",
    "server = LeanServer(config) # start Lean REPL\n",
    "res0 = server.run(Command(cmd=\"\"\"import Mathlib\n",
    "import Aesop\n",
    "set_option maxHeartbeats 0\n",
    "open BigOperators Real Nat Topology Rat\"\"\"))\n",
    "print(f\"# res0: {res0}\")\n",
    "\n",
    "for i in range(len(lean_files)):\n",
    "    file_path = lean_files[i]\n",
    "    with open(file_path, \"r\") as f:\n",
    "        raw = f.read()\n",
    "    proof = raw[raw.index(\"theorem\"):] # remove all the other imports\n",
    "    \n",
    "    print(f\"# checking {os.path.basename(file_path)}\")\n",
    "    t0 = time.time()\n",
    "    res1 = server.run(Command(cmd=proof, env=res0.env))\n",
    "    print(f\"  # passed: {not res1.has_errors()}\")\n",
    "    print(f\"  # time: {time.time()-t0}\")\n",
    "    # print(f\"  # {res1}\")\n",
    "    # if i > 100:\n",
    "    #     break"
   ]
  },
  {
   "cell_type": "code",
   "execution_count": null,
   "id": "899972d6-bd28-4e61-ab6d-dc78336b04c8",
   "metadata": {},
   "outputs": [],
   "source": []
  },
  {
   "cell_type": "code",
   "execution_count": null,
   "id": "ed17bb24-6e27-4a17-a2c5-1e2bee2e6025",
   "metadata": {},
   "outputs": [],
   "source": [
    "import time\n",
    "from lean_interact import LeanREPLConfig, LeanServer, FileCommand, LocalProject, Command\n",
    "config = LeanREPLConfig(project=LocalProject(\"../benchmarks/\"))\n",
    "print(f\"# setting up environment...\")\n",
    "server = LeanServer(config) # start Lean REPL\n",
    "res0 = server.run(Command(cmd=\"\"\"import Mathlib\n",
    "import Aesop\n",
    "set_option maxHeartbeats 0\n",
    "open BigOperators Real Nat Topology Rat\"\"\"))\n",
    "print(f\"# res0: {res0}\")\n",
    "\n",
    "file_path = lean_files[0]\n",
    "with open(file_path, \"r\") as f:\n",
    "    raw = f.read()\n",
    "proof = raw[raw.index(\"theorem\"):] # remove all the other imports\n",
    "\n",
    "print(f\"# checking {os.path.basename(file_path)}\")\n",
    "t0 = time.time()\n",
    "res1 = server.run(Command(cmd=proof, env=res0.env))\n",
    "print(f\"  # passed: {not res1.has_errors()}\")\n",
    "print(f\"  # time: {time.time()-t0}\")\n",
    "print(f\"  # response: {res1}\")"
   ]
  },
  {
   "cell_type": "code",
   "execution_count": null,
   "id": "e6bc23fe-1444-4ba9-a5ad-0d3a57b2d0ba",
   "metadata": {},
   "outputs": [],
   "source": []
  }
 ],
 "metadata": {
  "kernelspec": {
   "display_name": "Python 3 (ipykernel)",
   "language": "python",
   "name": "python3"
  },
  "language_info": {
   "codemirror_mode": {
    "name": "ipython",
    "version": 3
   },
   "file_extension": ".py",
   "mimetype": "text/x-python",
   "name": "python",
   "nbconvert_exporter": "python",
   "pygments_lexer": "ipython3",
   "version": "3.12.0"
  }
 },
 "nbformat": 4,
 "nbformat_minor": 5
}
