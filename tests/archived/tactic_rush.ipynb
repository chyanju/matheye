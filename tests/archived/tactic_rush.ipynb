{
 "cells": [
  {
   "cell_type": "code",
   "execution_count": 1,
   "id": "668a578b-db21-45ff-9e47-2eb3461d97c3",
   "metadata": {},
   "outputs": [
    {
     "name": "stdout",
     "output_type": "stream",
     "text": [
      "# setting up environment...\n",
      "# res0: CommandResponse(env=0)\n"
     ]
    }
   ],
   "source": [
    "from lean_interact import LeanREPLConfig, LeanServer, FileCommand, LocalProject, Command\n",
    "config = LeanREPLConfig(project=LocalProject(\"../benchmarks/\"))\n",
    "print(f\"# setting up environment...\")\n",
    "server = LeanServer(config) # start Lean REPL\n",
    "res0 = server.run(Command(cmd=\"\"\"import Mathlib\n",
    "import Aesop\n",
    "set_option maxHeartbeats 0\n",
    "open BigOperators Real Nat Topology Rat\"\"\"))\n",
    "print(f\"# res0: {res0}\")\n",
    "\n",
    "tactics = [\"norm_num\", \"linarith\", \"nlinarith\", \"omega\", \"ring\", \"ring_nf\", \"simp\", \"simpa\", \"field_simp\"]"
   ]
  },
  {
   "cell_type": "code",
   "execution_count": 86,
   "id": "2ebd28d4-12e4-4255-9450-205173cd424e",
   "metadata": {},
   "outputs": [
    {
     "name": "stdout",
     "output_type": "stream",
     "text": [
      "example (x : ℚ) : x / 2 + x / 4 = (3 * x) / 4 := by\n",
      "  -- ==== passed ====\n",
      "  -- linarith\n",
      "  -- nlinarith\n",
      "  -- ring\n",
      "  -- ring_nf\n",
      "  -- ==== failed ====\n",
      "  -- norm_num\n",
      "  -- omega\n",
      "  -- simp\n",
      "  -- simpa\n",
      "  -- field_simp\n"
     ]
    }
   ],
   "source": [
    "raw_proof = \"\"\"\n",
    "example (x : ℚ) : x / 2 + x / 4 = (3 * x) / 4 := by\n",
    "\"\"\".strip()\n",
    "tpassed = []\n",
    "tfailed = []\n",
    "\n",
    "for t in tactics:\n",
    "    proof = raw_proof + f\"\\n  {t}\"\n",
    "    res1 = server.run(Command(cmd=proof, env=res0.env))\n",
    "    if res1.has_errors():\n",
    "        tfailed.append(t)\n",
    "    else:\n",
    "        tpassed.append(t)\n",
    "\n",
    "print(raw_proof)\n",
    "print(\"  -- ==== passed ====\")\n",
    "for t in tpassed:\n",
    "    print(f\"  -- {t}\")\n",
    "print(\"  -- ==== failed ====\")\n",
    "for t in tfailed:\n",
    "    print(f\"  -- {t}\")"
   ]
  },
  {
   "cell_type": "code",
   "execution_count": null,
   "id": "9141b4f8-2db4-4b58-8254-abfc832f3965",
   "metadata": {},
   "outputs": [],
   "source": []
  }
 ],
 "metadata": {
  "kernelspec": {
   "display_name": "Python 3 (ipykernel)",
   "language": "python",
   "name": "python3"
  },
  "language_info": {
   "codemirror_mode": {
    "name": "ipython",
    "version": 3
   },
   "file_extension": ".py",
   "mimetype": "text/x-python",
   "name": "python",
   "nbconvert_exporter": "python",
   "pygments_lexer": "ipython3",
   "version": "3.12.0"
  }
 },
 "nbformat": 4,
 "nbformat_minor": 5
}
