{
 "cells": [
  {
   "cell_type": "code",
   "execution_count": 1,
   "id": "66ee3e41-e592-41c6-921f-3bb550ea819d",
   "metadata": {},
   "outputs": [],
   "source": [
    "import os\n",
    "import glob\n",
    "folder_path = \"/Users/joseph/Desktop/UCSD/25spring/lean-playground/minif2f-solutions/test\"\n",
    "\n",
    "lean_files = glob.glob(os.path.join(folder_path, \"*.lean\"))\n",
    "lean_files = sorted(lean_files, key=lambda x: os.path.basename(x))\n",
    "# for file_path in lean_files:\n",
    "#     print(os.path.basename(file_path))"
   ]
  },
  {
   "cell_type": "code",
   "execution_count": 2,
   "id": "3ea5aae6-2b7f-48ac-b87a-14ed9d4de759",
   "metadata": {},
   "outputs": [
    {
     "name": "stdout",
     "output_type": "stream",
     "text": [
      "# running /Users/joseph/Desktop/UCSD/25spring/lean-playground/minif2f-solutions/test/aime_1983_p2.lean\n",
      "Build completed successfully.\n",
      "  # CommandResponse(messages=[Message(end_pos=Pos(line=6, column=17), start_pos=Pos(line=6, column=5), severity='error', data=\"unknown namespace 'BigOperators'\"), Message(end_pos=None, start_pos=Pos(line=9, column=51), severity='error', data='expected token')], env=0)\n"
     ]
    }
   ],
   "source": [
    "from lean_interact import LeanREPLConfig, LeanServer, FileCommand\n",
    "for file_path in lean_files:\n",
    "    file_path = \"/Users/joseph/Desktop/UCSD/25spring/lean-playground/test.lean\"\n",
    "    print(f\"# running {file_path}\")\n",
    "    config = LeanREPLConfig(verbose=True) # download and build Lean REPL\n",
    "    server = LeanServer(config) # start Lean REPL\n",
    "    response = server.run(FileCommand(path=file_path))\n",
    "    print(f\"  # {response}\")\n",
    "    break"
   ]
  },
  {
   "cell_type": "code",
   "execution_count": null,
   "id": "88406c95-a63a-4fdb-9420-b164c94f6772",
   "metadata": {},
   "outputs": [],
   "source": []
  },
  {
   "cell_type": "code",
   "execution_count": 1,
   "id": "9f2e3a49-097e-45fc-9ca6-265d14ac54cc",
   "metadata": {},
   "outputs": [
    {
     "name": "stdout",
     "output_type": "stream",
     "text": [
      "  # CommandResponse(env=0, messages=[Message(severity='warning', start_pos=Pos(line=2, column=8), end_pos=Pos(line=2, column=31), data=\"declaration uses 'sorry'\")], sorries=[Sorry(start_pos=Pos(line=2, column=64), goal='a : ℝ\\n⊢ a * (2 - a) ≤ 1', end_pos=Pos(line=2, column=69), proof_state=0)])\n"
     ]
    }
   ],
   "source": [
    "from lean_interact import LeanREPLConfig, LeanServer, FileCommand, LocalProject\n",
    "file_path = \"/Users/joseph/Desktop/UCSD/25spring/leanplay/Leanplay/Test.lean\"\n",
    "config = LeanREPLConfig(project=LocalProject(\"/Users/joseph/Desktop/UCSD/25spring/leanplay/\"))\n",
    "server = LeanServer(config) # start Lean REPL\n",
    "response = server.run(FileCommand(path=file_path))\n",
    "print(f\"  # {response}\")"
   ]
  },
  {
   "cell_type": "code",
   "execution_count": null,
   "id": "86cb4760-219d-493a-a7d7-0c8dd74b5223",
   "metadata": {},
   "outputs": [],
   "source": []
  },
  {
   "cell_type": "code",
   "execution_count": 2,
   "id": "d54d1b22-edba-4c5c-936d-ad6d47f10306",
   "metadata": {},
   "outputs": [
    {
     "name": "stdout",
     "output_type": "stream",
     "text": [
      "Build completed successfully.\n"
     ]
    },
    {
     "data": {
      "text/plain": [
       "CommandResponse(env=0)"
      ]
     },
     "execution_count": 2,
     "metadata": {},
     "output_type": "execute_result"
    }
   ],
   "source": [
    "from lean_interact import LeanREPLConfig, LeanServer, Command\n",
    "\n",
    "config = LeanREPLConfig(verbose=True) # download and build Lean REPL\n",
    "server = LeanServer(config) # start Lean REPL\n",
    "server.run(Command(cmd=\"import Mathlib\"))"
   ]
  },
  {
   "cell_type": "code",
   "execution_count": 4,
   "id": "0c9458ac-c950-4916-ba88-adeaeba724f3",
   "metadata": {},
   "outputs": [
    {
     "data": {
      "text/plain": [
       "CommandResponse(env=2)"
      ]
     },
     "execution_count": 4,
     "metadata": {},
     "output_type": "execute_result"
    }
   ],
   "source": [
    "server.run(Command(cmd=\"set_option diagnostics true\"))"
   ]
  },
  {
   "cell_type": "code",
   "execution_count": 5,
   "id": "dc976641-46e0-4bf6-9e56-ca5f7960b603",
   "metadata": {},
   "outputs": [
    {
     "data": {
      "text/plain": [
       "CommandResponse(sorries=[Sorry(end_pos=Pos(line=1, column=69), start_pos=Pos(line=1, column=64), proof_state=1, goal='ℝ : Type u_1\\na : ℝ\\n⊢ sorry')], env=3, messages=[Message(end_pos=Pos(line=1, column=57), data='failed to synthesize\\n  LE ℝ\\n\\nAdditional diagnostic information may be available using the `set_option diagnostics true` command.', start_pos=Pos(line=1, column=42), severity='error'), Message(end_pos=Pos(line=1, column=57), data='failed to synthesize\\n  OfNat ℝ 1\\nnumerals are polymorphic in Lean, but the numeral `1` cannot be used in a context where the expected type is\\n  ℝ\\ndue to the absence of the instance above\\n\\nAdditional diagnostic information may be available using the `set_option diagnostics true` command.', start_pos=Pos(line=1, column=56), severity='error'), Message(end_pos=Pos(line=1, column=52), data='failed to synthesize\\n  HSub Nat ℝ ?m.61\\n\\nAdditional diagnostic information may be available using the `set_option diagnostics true` command.', start_pos=Pos(line=1, column=47), severity='error')])"
      ]
     },
     "execution_count": 5,
     "metadata": {},
     "output_type": "execute_result"
    }
   ],
   "source": [
    "server.run(Command(cmd=\"theorem algebra_sqineq_at2malt1 (a : ℝ) : a * (2 - a) ≤ 1 := by sorry\"))"
   ]
  },
  {
   "cell_type": "code",
   "execution_count": null,
   "id": "a3e4a7f2-4638-4ff9-abec-eb408fee137c",
   "metadata": {},
   "outputs": [],
   "source": []
  }
 ],
 "metadata": {
  "kernelspec": {
   "display_name": "Python 3 (ipykernel)",
   "language": "python",
   "name": "python3"
  },
  "language_info": {
   "codemirror_mode": {
    "name": "ipython",
    "version": 3
   },
   "file_extension": ".py",
   "mimetype": "text/x-python",
   "name": "python",
   "nbconvert_exporter": "python",
   "pygments_lexer": "ipython3",
   "version": "3.12.0"
  }
 },
 "nbformat": 4,
 "nbformat_minor": 5
}
